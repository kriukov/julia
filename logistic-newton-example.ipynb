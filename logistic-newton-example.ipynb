{
 "metadata": {
  "language": "Julia",
  "name": ""
 },
 "nbformat": 3,
 "nbformat_minor": 0,
 "worksheets": [
  {
   "cells": [
    {
     "cell_type": "code",
     "collapsed": false,
     "input": [
      "T(x) = r*x*(1.0 - x)"
     ],
     "language": "python",
     "metadata": {},
     "outputs": [
      {
       "metadata": {},
       "output_type": "pyout",
       "prompt_number": 1,
       "text": [
        "T (generic function with 1 method)"
       ]
      }
     ],
     "prompt_number": 1
    },
    {
     "cell_type": "code",
     "collapsed": false,
     "input": [
      "r = 3.8286"
     ],
     "language": "python",
     "metadata": {},
     "outputs": [
      {
       "metadata": {},
       "output_type": "pyout",
       "prompt_number": 2,
       "text": [
        "3.8286"
       ]
      }
     ],
     "prompt_number": 2
    },
    {
     "cell_type": "code",
     "collapsed": false,
     "input": [
      "f(x) = T(T(x)) - x"
     ],
     "language": "python",
     "metadata": {},
     "outputs": [
      {
       "metadata": {},
       "output_type": "pyout",
       "prompt_number": 3,
       "text": [
        "f (generic function with 1 method)"
       ]
      }
     ],
     "prompt_number": 3
    },
    {
     "cell_type": "code",
     "collapsed": false,
     "input": [
      "a = 0.1"
     ],
     "language": "python",
     "metadata": {},
     "outputs": [
      {
       "metadata": {},
       "output_type": "pyout",
       "prompt_number": 4,
       "text": [
        "0.1"
       ]
      }
     ],
     "prompt_number": 4
    },
    {
     "cell_type": "code",
     "collapsed": false,
     "input": [
      "for i = 1:20\n",
      "    a = i/10\n",
      "    include(\"newton.jl\")\n",
      "end"
     ],
     "language": "python",
     "metadata": {},
     "outputs": [
      {
       "output_type": "stream",
       "stream": "stdout",
       "text": [
        "0.0"
       ]
      },
      {
       "output_type": "stream",
       "stream": "stdout",
       "text": [
        "\n"
       ]
      },
      {
       "output_type": "stream",
       "stream": "stdout",
       "text": [
        "0."
       ]
      },
      {
       "output_type": "stream",
       "stream": "stdout",
       "text": [
        "36937203219741077\n",
        "0."
       ]
      },
      {
       "output_type": "stream",
       "stream": "stdout",
       "text": [
        "36937203219741077\n",
        "0."
       ]
      },
      {
       "output_type": "stream",
       "stream": "stdout",
       "text": [
        "36937203219741077\n",
        "0."
       ]
      },
      {
       "output_type": "stream",
       "stream": "stdout",
       "text": [
        "8918200484587038\n",
        "0"
       ]
      },
      {
       "output_type": "stream",
       "stream": "stdout",
       "text": [
        ".0\n",
        "0."
       ]
      },
      {
       "output_type": "stream",
       "stream": "stdout",
       "text": [
        "7388079193438855\n",
        "0."
       ]
      },
      {
       "output_type": "stream",
       "stream": "stdout",
       "text": [
        "7388079193438855\n",
        "0."
       ]
      },
      {
       "output_type": "stream",
       "stream": "stdout",
       "text": [
        "8918200484587038\n",
        "0."
       ]
      },
      {
       "output_type": "stream",
       "stream": "stdout",
       "text": [
        "8918200484587038\n",
        "0."
       ]
      },
      {
       "output_type": "stream",
       "stream": "stdout",
       "text": [
        "8918200484587038\n",
        "0."
       ]
      },
      {
       "output_type": "stream",
       "stream": "stdout",
       "text": [
        "8918200484587038\n",
        "0."
       ]
      },
      {
       "output_type": "stream",
       "stream": "stdout",
       "text": [
        "8918200484587038\n",
        "0."
       ]
      },
      {
       "output_type": "stream",
       "stream": "stdout",
       "text": [
        "8918200484587038\n",
        "0."
       ]
      },
      {
       "output_type": "stream",
       "stream": "stdout",
       "text": [
        "8918200484587038\n",
        "0."
       ]
      },
      {
       "output_type": "stream",
       "stream": "stdout",
       "text": [
        "8918200484587038\n",
        "0."
       ]
      },
      {
       "output_type": "stream",
       "stream": "stdout",
       "text": [
        "8918200484587038\n",
        "0."
       ]
      },
      {
       "output_type": "stream",
       "stream": "stdout",
       "text": [
        "8918200484587038\n",
        "0."
       ]
      },
      {
       "output_type": "stream",
       "stream": "stdout",
       "text": [
        "8918200484587038\n",
        "0."
       ]
      },
      {
       "output_type": "stream",
       "stream": "stdout",
       "text": [
        "8918200484587038\n"
       ]
      }
     ],
     "prompt_number": 5
    },
    {
     "cell_type": "code",
     "collapsed": false,
     "input": [],
     "language": "python",
     "metadata": {},
     "outputs": []
    }
   ],
   "metadata": {}
  }
 ]
}